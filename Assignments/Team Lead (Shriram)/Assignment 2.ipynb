{
  "metadata": {
    "kernelspec": {
      "language": "python",
      "display_name": "Python 3",
      "name": "python3"
    },
    "language_info": {
      "name": "python",
      "version": "3.10.10",
      "mimetype": "text/x-python",
      "codemirror_mode": {
        "name": "ipython",
        "version": 3
      },
      "pygments_lexer": "ipython3",
      "nbconvert_exporter": "python",
      "file_extension": ".py"
    },
    "colab": {
      "provenance": []
    }
  },
  "nbformat_minor": 0,
  "nbformat": 4,
  "cells": [
    {
      "cell_type": "markdown",
      "source": [
        "# Assignment 2\n",
        "\n",
        "To predict the price of a house using different parameters ANN Regression Models"
      ],
      "metadata": {
        "id": "lnBZOdBYcEgh"
      }
    },
    {
      "cell_type": "markdown",
      "source": [
        "## Making Necessary Imports"
      ],
      "metadata": {
        "id": "CDBDsosgcaLV"
      }
    },
    {
      "cell_type": "code",
      "source": [
        "import numpy as np # Matrix Algebra\n",
        "import pandas as pd # To load data\n",
        "\n",
        "#Preprocessing\n",
        "from sklearn.preprocessing import StandardScaler \n",
        "\n",
        "# Train vs Test\n",
        "from sklearn.model_selection import train_test_split \n",
        "\n",
        "from sklearn.metrics import r2_score # Performance Metric\n",
        "from tensorflow import keras # Neural Network Architecture"
      ],
      "metadata": {
        "_uuid": "8f2839f25d086af736a60e9eeb907d3b93b6e0e5",
        "_cell_guid": "b1076dfc-b9ad-4769-8c92-a6c4dae69d19",
        "execution": {
          "iopub.status.busy": "2023-05-10T13:48:07.258006Z",
          "iopub.execute_input": "2023-05-10T13:48:07.258387Z",
          "iopub.status.idle": "2023-05-10T13:48:07.265095Z",
          "shell.execute_reply.started": "2023-05-10T13:48:07.258358Z",
          "shell.execute_reply": "2023-05-10T13:48:07.263626Z"
        },
        "trusted": true,
        "id": "fSeikDEwaGwh"
      },
      "execution_count": 56,
      "outputs": []
    },
    {
      "cell_type": "markdown",
      "source": [
        "## Loading the Dataset"
      ],
      "metadata": {
        "id": "Gik5-KHWfK1t"
      }
    },
    {
      "cell_type": "code",
      "source": [
        "from google.colab import drive\n",
        "drive.mount('/content/drive')\n",
        "df = pd.read_csv(\"/content/drive/MyDrive/colabdata/House Price India.csv\")\n",
        "df.info()"
      ],
      "metadata": {
        "execution": {
          "iopub.status.busy": "2023-05-10T13:57:50.517965Z",
          "iopub.execute_input": "2023-05-10T13:57:50.518400Z",
          "iopub.status.idle": "2023-05-10T13:57:50.589925Z",
          "shell.execute_reply.started": "2023-05-10T13:57:50.518366Z",
          "shell.execute_reply": "2023-05-10T13:57:50.588793Z"
        },
        "trusted": true,
        "colab": {
          "base_uri": "https://localhost:8080/"
        },
        "id": "g0aG1yyQaGwl",
        "outputId": "caba0c13-b2ca-4472-c476-96a5cb16bd9a"
      },
      "execution_count": 57,
      "outputs": [
        {
          "output_type": "stream",
          "name": "stdout",
          "text": [
            "Drive already mounted at /content/drive; to attempt to forcibly remount, call drive.mount(\"/content/drive\", force_remount=True).\n",
            "<class 'pandas.core.frame.DataFrame'>\n",
            "RangeIndex: 14620 entries, 0 to 14619\n",
            "Data columns (total 23 columns):\n",
            " #   Column                                 Non-Null Count  Dtype  \n",
            "---  ------                                 --------------  -----  \n",
            " 0   id                                     14620 non-null  int64  \n",
            " 1   Date                                   14620 non-null  int64  \n",
            " 2   number of bedrooms                     14620 non-null  int64  \n",
            " 3   number of bathrooms                    14620 non-null  float64\n",
            " 4   living area                            14620 non-null  int64  \n",
            " 5   lot area                               14620 non-null  int64  \n",
            " 6   number of floors                       14620 non-null  float64\n",
            " 7   waterfront present                     14620 non-null  int64  \n",
            " 8   number of views                        14620 non-null  int64  \n",
            " 9   condition of the house                 14620 non-null  int64  \n",
            " 10  grade of the house                     14620 non-null  int64  \n",
            " 11  Area of the house(excluding basement)  14620 non-null  int64  \n",
            " 12  Area of the basement                   14620 non-null  int64  \n",
            " 13  Built Year                             14620 non-null  int64  \n",
            " 14  Renovation Year                        14620 non-null  int64  \n",
            " 15  Postal Code                            14620 non-null  int64  \n",
            " 16  Lattitude                              14620 non-null  float64\n",
            " 17  Longitude                              14620 non-null  float64\n",
            " 18  living_area_renov                      14620 non-null  int64  \n",
            " 19  lot_area_renov                         14620 non-null  int64  \n",
            " 20  Number of schools nearby               14620 non-null  int64  \n",
            " 21  Distance from the airport              14620 non-null  int64  \n",
            " 22  Price                                  14620 non-null  int64  \n",
            "dtypes: float64(4), int64(19)\n",
            "memory usage: 2.6 MB\n"
          ]
        }
      ]
    },
    {
      "cell_type": "code",
      "source": [
        "feature_list = [\n",
        "    \"id\",\n",
        "    \"Date\",\n",
        "    \"number of bedrooms\",\n",
        "    \"number of bathrooms\",\n",
        "    \"living area\",\n",
        "    \"lot area\",\n",
        "    \"number of floors\",\n",
        "    \"waterfront present\",\n",
        "    \"number of views\",\n",
        "    \"condition of the house\",\n",
        "    \"grade of the house\",\n",
        "    \"Area of the house(excluding basement)\",\n",
        "    \"Area of the basement\",\n",
        "    \"Built Year\",\n",
        "    \"Renovation Year\",\n",
        "    \"Postal Code\",\n",
        "    \"Lattitude\",\n",
        "    \"Longitude\",\n",
        "    \"Price\",\n",
        "]\n",
        "data = df[feature_list]\n",
        "X = data.drop(['Price'],axis=1)\n",
        "y = data['Price']\n",
        "X_train, X_test, y_train, y_test = train_test_split(X, y, shuffle=True)"
      ],
      "metadata": {
        "id": "4W6qHpxOc1OC"
      },
      "execution_count": 58,
      "outputs": []
    },
    {
      "cell_type": "markdown",
      "source": [
        "## Preprocessing"
      ],
      "metadata": {
        "id": "-aWcPA-yfpyS"
      }
    },
    {
      "cell_type": "code",
      "source": [
        "scaler = StandardScaler()\n",
        "scaler.fit(X_train)\n",
        "X_train = scaler.transform(X_train)\n",
        "X_test = scaler.transform(X_test)"
      ],
      "metadata": {
        "id": "FetFVbTYdGis"
      },
      "execution_count": 59,
      "outputs": []
    },
    {
      "cell_type": "markdown",
      "source": [
        "## Neural Network Model Architecture"
      ],
      "metadata": {
        "id": "Req2yWavf1Rc"
      }
    },
    {
      "cell_type": "code",
      "source": [
        "model = keras.Sequential(\n",
        "    [\n",
        "        keras.layers.Dense(1024, activation=\"relu\"),\n",
        "        keras.layers.Dense(512, activation=\"elu\"),\n",
        "        keras.layers.Dense(512, activation=\"relu\"),\n",
        "        keras.layers.Dense(512, activation=\"softplus\"),\n",
        "        keras.layers.Dense(512, activation=\"relu\"),\n",
        "        keras.layers.Dense(1),\n",
        "    ]\n",
        ")\n",
        "\n",
        "model.compile(optimizer=\"adam\", loss=\"mse\", metrics=[\"mae\"])\n",
        "model.fit(X_train, y_train)"
      ],
      "metadata": {
        "execution": {
          "iopub.status.busy": "2023-05-10T14:30:25.152999Z",
          "iopub.execute_input": "2023-05-10T14:30:25.153395Z",
          "iopub.status.idle": "2023-05-10T14:30:25.161066Z",
          "shell.execute_reply.started": "2023-05-10T14:30:25.153364Z",
          "shell.execute_reply": "2023-05-10T14:30:25.159544Z"
        },
        "trusted": true,
        "id": "axTxH8vEaGwn",
        "colab": {
          "base_uri": "https://localhost:8080/"
        },
        "outputId": "75c4e5e7-13b3-42b4-80ad-62d557f930fb"
      },
      "execution_count": 102,
      "outputs": [
        {
          "output_type": "stream",
          "name": "stdout",
          "text": [
            "343/343 [==============================] - 11s 26ms/step - loss: 80313950208.0000 - mae: 147581.5469\n"
          ]
        },
        {
          "output_type": "execute_result",
          "data": {
            "text/plain": [
              "<keras.callbacks.History at 0x7f9eebdf2ad0>"
            ]
          },
          "metadata": {},
          "execution_count": 102
        }
      ]
    },
    {
      "cell_type": "markdown",
      "source": [
        "## Make Test Data Predictions"
      ],
      "metadata": {
        "id": "t-jOJh__gBqs"
      }
    },
    {
      "cell_type": "code",
      "source": [
        "pred = model.predict(X_test)\n",
        "pred = np.array([i for i, in pred])\n",
        "r2_score(y_test, pred, sample_weight=None)"
      ],
      "metadata": {
        "execution": {
          "iopub.status.busy": "2023-05-10T14:30:27.258416Z",
          "iopub.execute_input": "2023-05-10T14:30:27.258827Z",
          "iopub.status.idle": "2023-05-10T14:30:27.268912Z",
          "shell.execute_reply.started": "2023-05-10T14:30:27.258796Z",
          "shell.execute_reply": "2023-05-10T14:30:27.267594Z"
        },
        "trusted": true,
        "colab": {
          "base_uri": "https://localhost:8080/"
        },
        "id": "qZpMVimEaGwo",
        "outputId": "b9d53390-026a-4510-e376-89800f84e9bc"
      },
      "execution_count": 103,
      "outputs": [
        {
          "output_type": "stream",
          "name": "stdout",
          "text": [
            "115/115 [==============================] - 1s 5ms/step\n"
          ]
        },
        {
          "output_type": "execute_result",
          "data": {
            "text/plain": [
              "0.8504556282367239"
            ]
          },
          "metadata": {},
          "execution_count": 103
        }
      ]
    },
    {
      "cell_type": "markdown",
      "source": [
        "### Highest Possible R2 Score = 1.0\n",
        "Our Score = 0.85 which is ideal "
      ],
      "metadata": {
        "id": "zwa_mo4vss9U"
      }
    }
  ]
}